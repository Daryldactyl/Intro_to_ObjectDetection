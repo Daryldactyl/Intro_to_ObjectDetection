{
 "cells": [
  {
   "cell_type": "code",
   "execution_count": 1,
   "id": "b6b50ba0-fbc6-43e5-82f6-d135d99142b9",
   "metadata": {},
   "outputs": [],
   "source": [
    "import cv2\n",
    "import numpy as np\n",
    "import matplotlib.pyplot as plt"
   ]
  },
  {
   "cell_type": "code",
   "execution_count": 13,
   "id": "19908725-d0a2-4ee7-82be-de804a3a95b4",
   "metadata": {},
   "outputs": [],
   "source": [
    "road = cv2.imread('../DATA/road_image.jpg')\n",
    "road_copy = np.copy(road)"
   ]
  },
  {
   "cell_type": "code",
   "execution_count": 14,
   "id": "f5f09166-1da0-4f73-aa9d-515b9ad62284",
   "metadata": {},
   "outputs": [
    {
     "data": {
      "text/plain": [
       "(600, 800, 3)"
      ]
     },
     "execution_count": 14,
     "metadata": {},
     "output_type": "execute_result"
    }
   ],
   "source": [
    "road.shape"
   ]
  },
  {
   "cell_type": "code",
   "execution_count": 15,
   "id": "d1e6b975-e9ae-405e-a397-b6a11d1e38af",
   "metadata": {},
   "outputs": [],
   "source": [
    "marker_image = np.zeros(road.shape[:2], dtype=np.int32)\n",
    "segments = np.zeros(road.shape, dtype=np.uint8)"
   ]
  },
  {
   "cell_type": "code",
   "execution_count": 16,
   "id": "7ac05060-2ba5-4678-834c-bc69b24fc0f4",
   "metadata": {},
   "outputs": [
    {
     "data": {
      "text/plain": [
       "(0.12156862745098039, 0.4666666666666667, 0.7058823529411765, 1.0)"
      ]
     },
     "execution_count": 16,
     "metadata": {},
     "output_type": "execute_result"
    }
   ],
   "source": [
    "from matplotlib import cm\n",
    "cm.tab10(0)"
   ]
  },
  {
   "cell_type": "code",
   "execution_count": 17,
   "id": "f9897a34-6567-419d-9fcd-68c4ddc97001",
   "metadata": {},
   "outputs": [],
   "source": [
    "def create_rgb(i):\n",
    "    return tuple(np.array(cm.tab10(i)[:3])*255)"
   ]
  },
  {
   "cell_type": "code",
   "execution_count": 18,
   "id": "cb0b022a-814e-42fa-9c7e-5ebc6fa8b16f",
   "metadata": {},
   "outputs": [
    {
     "data": {
      "text/plain": [
       "[(31.0, 119.0, 180.0),\n",
       " (255.0, 127.0, 14.0),\n",
       " (44.0, 160.0, 44.0),\n",
       " (214.0, 39.0, 40.0),\n",
       " (148.0, 103.0, 189.0),\n",
       " (140.0, 86.0, 75.0),\n",
       " (227.0, 119.0, 194.0),\n",
       " (127.0, 127.0, 127.0),\n",
       " (188.0, 189.0, 34.0),\n",
       " (23.0, 190.0, 207.0)]"
      ]
     },
     "execution_count": 18,
     "metadata": {},
     "output_type": "execute_result"
    }
   ],
   "source": [
    "colors = []\n",
    "for i in range(10):\n",
    "    colors.append(create_rgb(i))\n",
    "\n",
    "colors"
   ]
  },
  {
   "cell_type": "code",
   "execution_count": 21,
   "id": "f1855537-66b3-404a-afa6-92efb502e5e0",
   "metadata": {},
   "outputs": [],
   "source": [
    "#Global Variables\n",
    "#Color Choice\n",
    "current_marker = 1\n",
    "n_markers = 10\n",
    "#Markers updated by watershed\n",
    "marks_updates = False"
   ]
  },
  {
   "cell_type": "code",
   "execution_count": 20,
   "id": "4b5cc1fa-fd90-41e3-a4d0-2ba97ed4e75f",
   "metadata": {},
   "outputs": [],
   "source": [
    "#Callback Function\n",
    "\n",
    "def mouse_callback(event, x, y, flags, param):\n",
    "    global marks_updates\n",
    "\n",
    "    if event == cv2.EVENT_LBUTTONDOWN:\n",
    "        #Markers passed to the watershed algorithm\n",
    "        cv2.circle(marker_image, (x,y), 10, (current_marker), -1)\n",
    "\n",
    "        #User sees on road image\n",
    "        cv2.circle(road_copy, (x,y), 10, colors[current_marker], -1)\n",
    "        marks_updates = True"
   ]
  },
  {
   "cell_type": "code",
   "execution_count": null,
   "id": "c202e16b-430f-45ed-82fa-604fc7056187",
   "metadata": {},
   "outputs": [],
   "source": [
    "#While True loop\n",
    "cv2.namedWindow('Road Image')\n",
    "cv2.setMouseCallback('Road Image', mouse_callback)\n",
    "\n",
    "while True:\n",
    "\n",
    "    cv2.imshow('Watershed Segments', segments)\n",
    "    cv2.imshow('Road Image', road_copy)\n",
    "\n",
    "    k = cv2.waitKey(1)\n",
    "    if k == 27:\n",
    "        break\n",
    "\n",
    "    #Clear all the colors press c key\n",
    "    elif k == ord('c'):\n",
    "        road_copy = road.copy()\n",
    "        marker_image = np.zeros(road.shape[:2], dtype=np.int32)\n",
    "        segments = np.zeros(road.shape, dtype=np.uint8)\n",
    "    \n",
    "    #Update color choice\n",
    "    elif k > 0 and chr(k).isdigit():\n",
    "        current_marker = int(chr(k))\n",
    "    \n",
    "    #Update the markings\n",
    "    if marks_updates:\n",
    "\n",
    "        marker_image_copy = marker_image.copy()\n",
    "        cv2.watershed(road, marker_image_copy)\n",
    "\n",
    "        segments = np.zeros(road.shape, dtype=np.uint8)\n",
    "\n",
    "        for color_ind in range(n_markers):\n",
    "            #Coloring segments, numpy call\n",
    "            segments[marker_image_copy==(color_ind)] = colors[color_ind]\n",
    "\n",
    "\n",
    "cv2.destroyAllWindows()"
   ]
  }
 ],
 "metadata": {
  "kernelspec": {
   "display_name": "Python 3 (ipykernel)",
   "language": "python",
   "name": "python3"
  },
  "language_info": {
   "codemirror_mode": {
    "name": "ipython",
    "version": 3
   },
   "file_extension": ".py",
   "mimetype": "text/x-python",
   "name": "python",
   "nbconvert_exporter": "python",
   "pygments_lexer": "ipython3",
   "version": "3.11.8"
  }
 },
 "nbformat": 4,
 "nbformat_minor": 5
}
